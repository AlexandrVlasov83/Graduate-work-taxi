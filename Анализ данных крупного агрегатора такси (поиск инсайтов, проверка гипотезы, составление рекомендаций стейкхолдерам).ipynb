{
 "cells": [
  {
   "cell_type": "markdown",
   "id": "6a6c3bcc",
   "metadata": {},
   "source": [
    "## Анализ данных крупного агрегатора такси (поиск инсайтов, проверка гипотезы, составление рекомендаций стейкхолдерам)"
   ]
  },
  {
   "cell_type": "code",
   "execution_count": 3,
   "id": "9708d6da",
   "metadata": {},
   "outputs": [],
   "source": [
    "import pandas as pd"
   ]
  },
  {
   "cell_type": "markdown",
   "id": "241b9317",
   "metadata": {},
   "source": [
    "### Загрузите файл dip_hw_x_taxi.csv в pandas dataframe"
   ]
  },
  {
   "cell_type": "code",
   "execution_count": 4,
   "id": "278e1a24",
   "metadata": {},
   "outputs": [],
   "source": [
    "taxi_info = pd.read_csv('D:/Нетология/Аналитика данных для начинающих/Итоговая аттестация/Дипломная работа/dip_hw_x_taxi.csv')"
   ]
  },
  {
   "cell_type": "markdown",
   "id": "d2c8af2a",
   "metadata": {},
   "source": [
    "### Рассчитайте основные описательные статистики (среднее, минимум, 25-50-75-персентили, максимум)"
   ]
  },
  {
   "cell_type": "code",
   "execution_count": 215,
   "id": "0db2ec2f",
   "metadata": {
    "scrolled": false
   },
   "outputs": [
    {
     "data": {
      "text/html": [
       "<div>\n",
       "<style scoped>\n",
       "    .dataframe tbody tr th:only-of-type {\n",
       "        vertical-align: middle;\n",
       "    }\n",
       "\n",
       "    .dataframe tbody tr th {\n",
       "        vertical-align: top;\n",
       "    }\n",
       "\n",
       "    .dataframe thead th {\n",
       "        text-align: right;\n",
       "    }\n",
       "</style>\n",
       "<table border=\"1\" class=\"dataframe\">\n",
       "  <thead>\n",
       "    <tr style=\"text-align: right;\">\n",
       "      <th></th>\n",
       "      <th>order_gk</th>\n",
       "      <th>weekday_key</th>\n",
       "      <th>hour_key</th>\n",
       "      <th>distance_km</th>\n",
       "      <th>driver_response</th>\n",
       "    </tr>\n",
       "  </thead>\n",
       "  <tbody>\n",
       "    <tr>\n",
       "      <th>count</th>\n",
       "      <td>2000.000000</td>\n",
       "      <td>2000.000000</td>\n",
       "      <td>2000.000000</td>\n",
       "      <td>2000.000000</td>\n",
       "      <td>2000.000000</td>\n",
       "    </tr>\n",
       "    <tr>\n",
       "      <th>mean</th>\n",
       "      <td>462807.384000</td>\n",
       "      <td>4.044000</td>\n",
       "      <td>11.608500</td>\n",
       "      <td>26.275848</td>\n",
       "      <td>0.587000</td>\n",
       "    </tr>\n",
       "    <tr>\n",
       "      <th>std</th>\n",
       "      <td>270556.211847</td>\n",
       "      <td>2.007256</td>\n",
       "      <td>6.918465</td>\n",
       "      <td>18.876336</td>\n",
       "      <td>0.492496</td>\n",
       "    </tr>\n",
       "    <tr>\n",
       "      <th>min</th>\n",
       "      <td>412.000000</td>\n",
       "      <td>1.000000</td>\n",
       "      <td>0.000000</td>\n",
       "      <td>0.024000</td>\n",
       "      <td>0.000000</td>\n",
       "    </tr>\n",
       "    <tr>\n",
       "      <th>25%</th>\n",
       "      <td>227126.500000</td>\n",
       "      <td>2.000000</td>\n",
       "      <td>6.000000</td>\n",
       "      <td>12.177000</td>\n",
       "      <td>0.000000</td>\n",
       "    </tr>\n",
       "    <tr>\n",
       "      <th>50%</th>\n",
       "      <td>458637.000000</td>\n",
       "      <td>4.000000</td>\n",
       "      <td>12.000000</td>\n",
       "      <td>22.828500</td>\n",
       "      <td>1.000000</td>\n",
       "    </tr>\n",
       "    <tr>\n",
       "      <th>75%</th>\n",
       "      <td>709420.250000</td>\n",
       "      <td>6.000000</td>\n",
       "      <td>18.000000</td>\n",
       "      <td>36.434250</td>\n",
       "      <td>1.000000</td>\n",
       "    </tr>\n",
       "    <tr>\n",
       "      <th>max</th>\n",
       "      <td>919196.000000</td>\n",
       "      <td>7.000000</td>\n",
       "      <td>23.000000</td>\n",
       "      <td>138.950000</td>\n",
       "      <td>1.000000</td>\n",
       "    </tr>\n",
       "  </tbody>\n",
       "</table>\n",
       "</div>"
      ],
      "text/plain": [
       "            order_gk  weekday_key     hour_key  distance_km  driver_response\n",
       "count    2000.000000  2000.000000  2000.000000  2000.000000      2000.000000\n",
       "mean   462807.384000     4.044000    11.608500    26.275848         0.587000\n",
       "std    270556.211847     2.007256     6.918465    18.876336         0.492496\n",
       "min       412.000000     1.000000     0.000000     0.024000         0.000000\n",
       "25%    227126.500000     2.000000     6.000000    12.177000         0.000000\n",
       "50%    458637.000000     4.000000    12.000000    22.828500         1.000000\n",
       "75%    709420.250000     6.000000    18.000000    36.434250         1.000000\n",
       "max    919196.000000     7.000000    23.000000   138.950000         1.000000"
      ]
     },
     "execution_count": 215,
     "metadata": {},
     "output_type": "execute_result"
    }
   ],
   "source": [
    "taxi_info.describe()"
   ]
  },
  {
   "cell_type": "code",
   "execution_count": 216,
   "id": "a2835df5",
   "metadata": {},
   "outputs": [
    {
     "name": "stdout",
     "output_type": "stream",
     "text": [
      "<class 'pandas.core.frame.DataFrame'>\n",
      "RangeIndex: 2000 entries, 0 to 1999\n",
      "Data columns (total 6 columns):\n",
      " #   Column             Non-Null Count  Dtype  \n",
      "---  ------             --------------  -----  \n",
      " 0   order_gk           2000 non-null   int64  \n",
      " 1   weekday_key        2000 non-null   int64  \n",
      " 2   hour_key           2000 non-null   int64  \n",
      " 3   distance_km        2000 non-null   float64\n",
      " 4   offer_class_group  2000 non-null   object \n",
      " 5   driver_response    2000 non-null   int64  \n",
      "dtypes: float64(1), int64(4), object(1)\n",
      "memory usage: 93.9+ KB\n"
     ]
    }
   ],
   "source": [
    "taxi_info.info()"
   ]
  },
  {
   "cell_type": "code",
   "execution_count": 217,
   "id": "c77b28be",
   "metadata": {},
   "outputs": [
    {
     "data": {
      "text/html": [
       "<div>\n",
       "<style scoped>\n",
       "    .dataframe tbody tr th:only-of-type {\n",
       "        vertical-align: middle;\n",
       "    }\n",
       "\n",
       "    .dataframe tbody tr th {\n",
       "        vertical-align: top;\n",
       "    }\n",
       "\n",
       "    .dataframe thead th {\n",
       "        text-align: right;\n",
       "    }\n",
       "</style>\n",
       "<table border=\"1\" class=\"dataframe\">\n",
       "  <thead>\n",
       "    <tr style=\"text-align: right;\">\n",
       "      <th></th>\n",
       "      <th>order_gk</th>\n",
       "      <th>weekday_key</th>\n",
       "      <th>hour_key</th>\n",
       "      <th>distance_km</th>\n",
       "      <th>offer_class_group</th>\n",
       "      <th>driver_response</th>\n",
       "    </tr>\n",
       "  </thead>\n",
       "  <tbody>\n",
       "    <tr>\n",
       "      <th>0</th>\n",
       "      <td>412</td>\n",
       "      <td>7</td>\n",
       "      <td>23</td>\n",
       "      <td>53.114</td>\n",
       "      <td>Premium</td>\n",
       "      <td>1</td>\n",
       "    </tr>\n",
       "    <tr>\n",
       "      <th>1</th>\n",
       "      <td>436</td>\n",
       "      <td>3</td>\n",
       "      <td>10</td>\n",
       "      <td>5.781</td>\n",
       "      <td>Delivery</td>\n",
       "      <td>1</td>\n",
       "    </tr>\n",
       "    <tr>\n",
       "      <th>2</th>\n",
       "      <td>1327</td>\n",
       "      <td>6</td>\n",
       "      <td>19</td>\n",
       "      <td>16.200</td>\n",
       "      <td>Delivery</td>\n",
       "      <td>0</td>\n",
       "    </tr>\n",
       "    <tr>\n",
       "      <th>3</th>\n",
       "      <td>2013</td>\n",
       "      <td>2</td>\n",
       "      <td>2</td>\n",
       "      <td>13.732</td>\n",
       "      <td>Delivery</td>\n",
       "      <td>0</td>\n",
       "    </tr>\n",
       "    <tr>\n",
       "      <th>4</th>\n",
       "      <td>2241</td>\n",
       "      <td>6</td>\n",
       "      <td>3</td>\n",
       "      <td>20.436</td>\n",
       "      <td>Premium</td>\n",
       "      <td>1</td>\n",
       "    </tr>\n",
       "    <tr>\n",
       "      <th>...</th>\n",
       "      <td>...</td>\n",
       "      <td>...</td>\n",
       "      <td>...</td>\n",
       "      <td>...</td>\n",
       "      <td>...</td>\n",
       "      <td>...</td>\n",
       "    </tr>\n",
       "    <tr>\n",
       "      <th>1995</th>\n",
       "      <td>918581</td>\n",
       "      <td>5</td>\n",
       "      <td>16</td>\n",
       "      <td>8.591</td>\n",
       "      <td>Delivery</td>\n",
       "      <td>1</td>\n",
       "    </tr>\n",
       "    <tr>\n",
       "      <th>1996</th>\n",
       "      <td>918656</td>\n",
       "      <td>7</td>\n",
       "      <td>14</td>\n",
       "      <td>30.835</td>\n",
       "      <td>Comfort</td>\n",
       "      <td>1</td>\n",
       "    </tr>\n",
       "    <tr>\n",
       "      <th>1997</th>\n",
       "      <td>918683</td>\n",
       "      <td>4</td>\n",
       "      <td>19</td>\n",
       "      <td>20.365</td>\n",
       "      <td>Delivery</td>\n",
       "      <td>0</td>\n",
       "    </tr>\n",
       "    <tr>\n",
       "      <th>1998</th>\n",
       "      <td>918737</td>\n",
       "      <td>2</td>\n",
       "      <td>23</td>\n",
       "      <td>14.960</td>\n",
       "      <td>Economy</td>\n",
       "      <td>0</td>\n",
       "    </tr>\n",
       "    <tr>\n",
       "      <th>1999</th>\n",
       "      <td>919196</td>\n",
       "      <td>4</td>\n",
       "      <td>19</td>\n",
       "      <td>68.559</td>\n",
       "      <td>Economy</td>\n",
       "      <td>0</td>\n",
       "    </tr>\n",
       "  </tbody>\n",
       "</table>\n",
       "<p>2000 rows × 6 columns</p>\n",
       "</div>"
      ],
      "text/plain": [
       "      order_gk  weekday_key  hour_key  distance_km offer_class_group  \\\n",
       "0          412            7        23       53.114           Premium   \n",
       "1          436            3        10        5.781          Delivery   \n",
       "2         1327            6        19       16.200          Delivery   \n",
       "3         2013            2         2       13.732          Delivery   \n",
       "4         2241            6         3       20.436           Premium   \n",
       "...        ...          ...       ...          ...               ...   \n",
       "1995    918581            5        16        8.591          Delivery   \n",
       "1996    918656            7        14       30.835           Comfort   \n",
       "1997    918683            4        19       20.365          Delivery   \n",
       "1998    918737            2        23       14.960           Economy   \n",
       "1999    919196            4        19       68.559           Economy   \n",
       "\n",
       "      driver_response  \n",
       "0                   1  \n",
       "1                   1  \n",
       "2                   0  \n",
       "3                   0  \n",
       "4                   1  \n",
       "...               ...  \n",
       "1995                1  \n",
       "1996                1  \n",
       "1997                0  \n",
       "1998                0  \n",
       "1999                0  \n",
       "\n",
       "[2000 rows x 6 columns]"
      ]
     },
     "execution_count": 217,
     "metadata": {},
     "output_type": "execute_result"
    }
   ],
   "source": [
    "taxi_info"
   ]
  },
  {
   "cell_type": "code",
   "execution_count": 218,
   "id": "cf5b3eda",
   "metadata": {
    "scrolled": false
   },
   "outputs": [
    {
     "data": {
      "text/plain": [
       "Index(['order_gk', 'weekday_key', 'hour_key', 'distance_km',\n",
       "       'offer_class_group', 'driver_response'],\n",
       "      dtype='object')"
      ]
     },
     "execution_count": 218,
     "metadata": {},
     "output_type": "execute_result"
    }
   ],
   "source": [
    "taxi_info.columns"
   ]
  },
  {
   "cell_type": "markdown",
   "id": "cfba8983",
   "metadata": {},
   "source": [
    "### Вычислите количество значений по классам такси"
   ]
  },
  {
   "cell_type": "code",
   "execution_count": 219,
   "id": "2c7abe9e",
   "metadata": {
    "scrolled": false
   },
   "outputs": [
    {
     "data": {
      "text/html": [
       "<div>\n",
       "<style scoped>\n",
       "    .dataframe tbody tr th:only-of-type {\n",
       "        vertical-align: middle;\n",
       "    }\n",
       "\n",
       "    .dataframe tbody tr th {\n",
       "        vertical-align: top;\n",
       "    }\n",
       "\n",
       "    .dataframe thead th {\n",
       "        text-align: right;\n",
       "    }\n",
       "</style>\n",
       "<table border=\"1\" class=\"dataframe\">\n",
       "  <thead>\n",
       "    <tr style=\"text-align: right;\">\n",
       "      <th></th>\n",
       "      <th>offer_class_group</th>\n",
       "      <th>order_gk</th>\n",
       "      <th>weekday_key</th>\n",
       "      <th>hour_key</th>\n",
       "      <th>distance_km</th>\n",
       "      <th>driver_response</th>\n",
       "    </tr>\n",
       "  </thead>\n",
       "  <tbody>\n",
       "    <tr>\n",
       "      <th>0</th>\n",
       "      <td>Comfort</td>\n",
       "      <td>500</td>\n",
       "      <td>500</td>\n",
       "      <td>500</td>\n",
       "      <td>500</td>\n",
       "      <td>500</td>\n",
       "    </tr>\n",
       "    <tr>\n",
       "      <th>1</th>\n",
       "      <td>Delivery</td>\n",
       "      <td>500</td>\n",
       "      <td>500</td>\n",
       "      <td>500</td>\n",
       "      <td>500</td>\n",
       "      <td>500</td>\n",
       "    </tr>\n",
       "    <tr>\n",
       "      <th>2</th>\n",
       "      <td>Economy</td>\n",
       "      <td>500</td>\n",
       "      <td>500</td>\n",
       "      <td>500</td>\n",
       "      <td>500</td>\n",
       "      <td>500</td>\n",
       "    </tr>\n",
       "    <tr>\n",
       "      <th>3</th>\n",
       "      <td>Premium</td>\n",
       "      <td>500</td>\n",
       "      <td>500</td>\n",
       "      <td>500</td>\n",
       "      <td>500</td>\n",
       "      <td>500</td>\n",
       "    </tr>\n",
       "  </tbody>\n",
       "</table>\n",
       "</div>"
      ],
      "text/plain": [
       "  offer_class_group  order_gk  weekday_key  hour_key  distance_km  \\\n",
       "0           Comfort       500          500       500          500   \n",
       "1          Delivery       500          500       500          500   \n",
       "2           Economy       500          500       500          500   \n",
       "3           Premium       500          500       500          500   \n",
       "\n",
       "   driver_response  \n",
       "0              500  \n",
       "1              500  \n",
       "2              500  \n",
       "3              500  "
      ]
     },
     "execution_count": 219,
     "metadata": {},
     "output_type": "execute_result"
    }
   ],
   "source": [
    "taxi_info.groupby('offer_class_group').count().reset_index()"
   ]
  },
  {
   "cell_type": "markdown",
   "id": "3f5f3a3b",
   "metadata": {},
   "source": [
    "### Визуализируйте распределение дистанций поездок"
   ]
  },
  {
   "cell_type": "code",
   "execution_count": 2,
   "id": "2f70c0ca",
   "metadata": {},
   "outputs": [],
   "source": [
    "import matplotlib.pyplot as plt\n",
    "import seaborn as sns"
   ]
  },
  {
   "cell_type": "code",
   "execution_count": 5,
   "id": "e312a275",
   "metadata": {},
   "outputs": [
    {
     "data": {
      "text/html": [
       "<div>\n",
       "<style scoped>\n",
       "    .dataframe tbody tr th:only-of-type {\n",
       "        vertical-align: middle;\n",
       "    }\n",
       "\n",
       "    .dataframe tbody tr th {\n",
       "        vertical-align: top;\n",
       "    }\n",
       "\n",
       "    .dataframe thead tr th {\n",
       "        text-align: left;\n",
       "    }\n",
       "</style>\n",
       "<table border=\"1\" class=\"dataframe\">\n",
       "  <thead>\n",
       "    <tr>\n",
       "      <th></th>\n",
       "      <th>offer_class_group</th>\n",
       "      <th colspan=\"3\" halign=\"left\">distance_km</th>\n",
       "    </tr>\n",
       "    <tr>\n",
       "      <th></th>\n",
       "      <th></th>\n",
       "      <th>min</th>\n",
       "      <th>mean</th>\n",
       "      <th>max</th>\n",
       "    </tr>\n",
       "  </thead>\n",
       "  <tbody>\n",
       "    <tr>\n",
       "      <th>0</th>\n",
       "      <td>Comfort</td>\n",
       "      <td>0.024</td>\n",
       "      <td>29.758916</td>\n",
       "      <td>81.507</td>\n",
       "    </tr>\n",
       "    <tr>\n",
       "      <th>1</th>\n",
       "      <td>Delivery</td>\n",
       "      <td>0.064</td>\n",
       "      <td>17.894820</td>\n",
       "      <td>55.235</td>\n",
       "    </tr>\n",
       "    <tr>\n",
       "      <th>2</th>\n",
       "      <td>Economy</td>\n",
       "      <td>0.090</td>\n",
       "      <td>26.283098</td>\n",
       "      <td>90.517</td>\n",
       "    </tr>\n",
       "    <tr>\n",
       "      <th>3</th>\n",
       "      <td>Premium</td>\n",
       "      <td>0.052</td>\n",
       "      <td>31.166556</td>\n",
       "      <td>138.950</td>\n",
       "    </tr>\n",
       "  </tbody>\n",
       "</table>\n",
       "</div>"
      ],
      "text/plain": [
       "  offer_class_group distance_km                    \n",
       "                            min       mean      max\n",
       "0           Comfort       0.024  29.758916   81.507\n",
       "1          Delivery       0.064  17.894820   55.235\n",
       "2           Economy       0.090  26.283098   90.517\n",
       "3           Premium       0.052  31.166556  138.950"
      ]
     },
     "execution_count": 5,
     "metadata": {},
     "output_type": "execute_result"
    }
   ],
   "source": [
    "# taxi_info_agg = агрегация значений max, min, mean\n",
    "taxi_info_agg = taxi_info[['offer_class_group','distance_km']].groupby('offer_class_group').agg({'distance_km':['min','mean','max']}).reset_index()\n",
    "taxi_info_agg"
   ]
  },
  {
   "cell_type": "code",
   "execution_count": 36,
   "id": "050cf115",
   "metadata": {
    "scrolled": false
   },
   "outputs": [
    {
     "data": {
      "text/plain": [
       "[<matplotlib.lines.Line2D at 0x2a16b839310>,\n",
       " <matplotlib.lines.Line2D at 0x2a16b8392b0>,\n",
       " <matplotlib.lines.Line2D at 0x2a16b839460>]"
      ]
     },
     "execution_count": 36,
     "metadata": {},
     "output_type": "execute_result"
    },
    {
     "data": {
      "image/png": "[encoded data removed]",
      "text/plain": [
       "<Figure size 640x480 with 1 Axes>"
      ]
     },
     "metadata": {},
     "output_type": "display_data"
    }
   ],
   "source": [
    "plt.title(label='Соотношения минимального, среднего и максимального значений', fontsize=15, loc='left',pad=25,fontweight='bold')\n",
    "plt.ylabel('Дистанция',fontsize=15,labelpad=17)\n",
    "plt.xlabel('Тип такси',fontsize=15,labelpad=17)\n",
    "plt.plot(taxi_info_agg.offer_class_group,taxi_info_agg.distance_km)"
   ]
  },
  {
   "cell_type": "code",
   "execution_count": 48,
   "id": "77b3c226",
   "metadata": {
    "scrolled": false
   },
   "outputs": [
    {
     "data": {
      "text/plain": [
       "<seaborn.axisgrid.FacetGrid at 0x2a16e7327f0>"
      ]
     },
     "execution_count": 48,
     "metadata": {},
     "output_type": "execute_result"
    },
    {
     "data": {
      "image/png": "[encoded data removed]",
      "text/plain": [
       "<Figure size 500x500 with 1 Axes>"
      ]
     },
     "metadata": {},
     "output_type": "display_data"
    }
   ],
   "source": [
    "sns.displot(x=taxi_info.distance_km,bins=100,kde=True).set(title='Соотношение расстояния поездки и количества соответствующих дистанций')"
   ]
  },
  {
   "cell_type": "markdown",
   "id": "cad02470",
   "metadata": {},
   "source": [
    "### Визуализируйте распределения дистанций поездок, по каждому классу такси в отдельности, а также определите типы распределений для эконом-класса и комфорт-класса"
   ]
  },
  {
   "cell_type": "code",
   "execution_count": 50,
   "id": "de53c8a7",
   "metadata": {},
   "outputs": [],
   "source": [
    "def identification(data):\n",
    "    if data == 'Comfort':\n",
    "        return 1\n",
    "    elif data == 'Economy':\n",
    "        return 2\n",
    "    elif data == 'Delivery':\n",
    "        return 3\n",
    "    else:\n",
    "        return 4"
   ]
  },
  {
   "cell_type": "code",
   "execution_count": 51,
   "id": "1ce4d2be",
   "metadata": {},
   "outputs": [],
   "source": [
    "taxi_info['identification'] = taxi_info['offer_class_group'].apply(identification)"
   ]
  },
  {
   "cell_type": "code",
   "execution_count": 52,
   "id": "eb03736a",
   "metadata": {},
   "outputs": [],
   "source": [
    "taxi_info_comfort = taxi_info.where(taxi_info.offer_class_group == 'Comfort')  # разделяем датафреймы\n",
    "taxi_info_economy = taxi_info.where(taxi_info.offer_class_group == 'Economy')\n",
    "taxi_info_premium = taxi_info.where(taxi_info.offer_class_group == 'Premium')\n",
    "taxi_info_delivery = taxi_info.where(taxi_info.offer_class_group == 'Delivery')"
   ]
  },
  {
   "cell_type": "code",
   "execution_count": 53,
   "id": "f092dc64",
   "metadata": {},
   "outputs": [],
   "source": [
    "taxi_info_comfort = taxi_info_comfort.dropna()              # чистим от NAN, восстанавливаем индекс\n",
    "taxi_info_economy = taxi_info_economy.dropna()\n",
    "taxi_info_premium = taxi_info_premium.dropna()\n",
    "taxi_info_delivery = taxi_info_delivery.dropna()\n",
    "taxi_info_comfort.reset_index(drop=True, inplace=True)\n",
    "taxi_info_economy.reset_index(drop=True, inplace=True)\n",
    "taxi_info_delivery.reset_index(drop=True, inplace=True)\n",
    "taxi_info_premium.reset_index(drop=True, inplace=True)"
   ]
  },
  {
   "cell_type": "code",
   "execution_count": 231,
   "id": "7dd5a7bf",
   "metadata": {
    "scrolled": false
   },
   "outputs": [
    {
     "data": {
      "text/html": [
       "<div>\n",
       "<style scoped>\n",
       "    .dataframe tbody tr th:only-of-type {\n",
       "        vertical-align: middle;\n",
       "    }\n",
       "\n",
       "    .dataframe tbody tr th {\n",
       "        vertical-align: top;\n",
       "    }\n",
       "\n",
       "    .dataframe thead th {\n",
       "        text-align: right;\n",
       "    }\n",
       "</style>\n",
       "<table border=\"1\" class=\"dataframe\">\n",
       "  <thead>\n",
       "    <tr style=\"text-align: right;\">\n",
       "      <th></th>\n",
       "      <th>order_gk</th>\n",
       "      <th>weekday_key</th>\n",
       "      <th>hour_key</th>\n",
       "      <th>distance_km</th>\n",
       "      <th>offer_class_group</th>\n",
       "      <th>driver_response</th>\n",
       "      <th>identification</th>\n",
       "    </tr>\n",
       "  </thead>\n",
       "  <tbody>\n",
       "    <tr>\n",
       "      <th>153</th>\n",
       "      <td>289990.0</td>\n",
       "      <td>5.0</td>\n",
       "      <td>0.0</td>\n",
       "      <td>0.024</td>\n",
       "      <td>Comfort</td>\n",
       "      <td>0.0</td>\n",
       "      <td>1.0</td>\n",
       "    </tr>\n",
       "    <tr>\n",
       "      <th>133</th>\n",
       "      <td>242330.0</td>\n",
       "      <td>5.0</td>\n",
       "      <td>0.0</td>\n",
       "      <td>0.144</td>\n",
       "      <td>Comfort</td>\n",
       "      <td>0.0</td>\n",
       "      <td>1.0</td>\n",
       "    </tr>\n",
       "    <tr>\n",
       "      <th>428</th>\n",
       "      <td>798867.0</td>\n",
       "      <td>5.0</td>\n",
       "      <td>14.0</td>\n",
       "      <td>0.292</td>\n",
       "      <td>Comfort</td>\n",
       "      <td>1.0</td>\n",
       "      <td>1.0</td>\n",
       "    </tr>\n",
       "    <tr>\n",
       "      <th>303</th>\n",
       "      <td>577776.0</td>\n",
       "      <td>3.0</td>\n",
       "      <td>21.0</td>\n",
       "      <td>0.422</td>\n",
       "      <td>Comfort</td>\n",
       "      <td>1.0</td>\n",
       "      <td>1.0</td>\n",
       "    </tr>\n",
       "    <tr>\n",
       "      <th>46</th>\n",
       "      <td>68734.0</td>\n",
       "      <td>5.0</td>\n",
       "      <td>16.0</td>\n",
       "      <td>0.609</td>\n",
       "      <td>Comfort</td>\n",
       "      <td>1.0</td>\n",
       "      <td>1.0</td>\n",
       "    </tr>\n",
       "    <tr>\n",
       "      <th>...</th>\n",
       "      <td>...</td>\n",
       "      <td>...</td>\n",
       "      <td>...</td>\n",
       "      <td>...</td>\n",
       "      <td>...</td>\n",
       "      <td>...</td>\n",
       "      <td>...</td>\n",
       "    </tr>\n",
       "    <tr>\n",
       "      <th>261</th>\n",
       "      <td>493219.0</td>\n",
       "      <td>4.0</td>\n",
       "      <td>20.0</td>\n",
       "      <td>74.825</td>\n",
       "      <td>Comfort</td>\n",
       "      <td>1.0</td>\n",
       "      <td>1.0</td>\n",
       "    </tr>\n",
       "    <tr>\n",
       "      <th>37</th>\n",
       "      <td>53288.0</td>\n",
       "      <td>4.0</td>\n",
       "      <td>14.0</td>\n",
       "      <td>79.368</td>\n",
       "      <td>Comfort</td>\n",
       "      <td>0.0</td>\n",
       "      <td>1.0</td>\n",
       "    </tr>\n",
       "    <tr>\n",
       "      <th>167</th>\n",
       "      <td>322385.0</td>\n",
       "      <td>3.0</td>\n",
       "      <td>12.0</td>\n",
       "      <td>80.596</td>\n",
       "      <td>Comfort</td>\n",
       "      <td>0.0</td>\n",
       "      <td>1.0</td>\n",
       "    </tr>\n",
       "    <tr>\n",
       "      <th>315</th>\n",
       "      <td>597610.0</td>\n",
       "      <td>6.0</td>\n",
       "      <td>16.0</td>\n",
       "      <td>81.478</td>\n",
       "      <td>Comfort</td>\n",
       "      <td>1.0</td>\n",
       "      <td>1.0</td>\n",
       "    </tr>\n",
       "    <tr>\n",
       "      <th>313</th>\n",
       "      <td>594666.0</td>\n",
       "      <td>5.0</td>\n",
       "      <td>18.0</td>\n",
       "      <td>81.507</td>\n",
       "      <td>Comfort</td>\n",
       "      <td>1.0</td>\n",
       "      <td>1.0</td>\n",
       "    </tr>\n",
       "  </tbody>\n",
       "</table>\n",
       "<p>500 rows × 7 columns</p>\n",
       "</div>"
      ],
      "text/plain": [
       "     order_gk  weekday_key  hour_key  distance_km offer_class_group  \\\n",
       "153  289990.0          5.0       0.0        0.024           Comfort   \n",
       "133  242330.0          5.0       0.0        0.144           Comfort   \n",
       "428  798867.0          5.0      14.0        0.292           Comfort   \n",
       "303  577776.0          3.0      21.0        0.422           Comfort   \n",
       "46    68734.0          5.0      16.0        0.609           Comfort   \n",
       "..        ...          ...       ...          ...               ...   \n",
       "261  493219.0          4.0      20.0       74.825           Comfort   \n",
       "37    53288.0          4.0      14.0       79.368           Comfort   \n",
       "167  322385.0          3.0      12.0       80.596           Comfort   \n",
       "315  597610.0          6.0      16.0       81.478           Comfort   \n",
       "313  594666.0          5.0      18.0       81.507           Comfort   \n",
       "\n",
       "     driver_response  identification  \n",
       "153              0.0             1.0  \n",
       "133              0.0             1.0  \n",
       "428              1.0             1.0  \n",
       "303              1.0             1.0  \n",
       "46               1.0             1.0  \n",
       "..               ...             ...  \n",
       "261              1.0             1.0  \n",
       "37               0.0             1.0  \n",
       "167              0.0             1.0  \n",
       "315              1.0             1.0  \n",
       "313              1.0             1.0  \n",
       "\n",
       "[500 rows x 7 columns]"
      ]
     },
     "execution_count": 231,
     "metadata": {},
     "output_type": "execute_result"
    }
   ],
   "source": [
    "taxi_info_comfort"
   ]
  },
  {
   "cell_type": "code",
   "execution_count": 57,
   "id": "c4f832bb",
   "metadata": {
    "scrolled": false
   },
   "outputs": [
    {
     "data": {
      "text/plain": [
       "[Text(0.5, 1.0, 'Распределение дистанций поездок по классу Комфорт')]"
      ]
     },
     "execution_count": 57,
     "metadata": {},
     "output_type": "execute_result"
    },
    {
     "data": {
      "image/png": "[encoded data removed]",
      "text/plain": [
       "<Figure size 640x480 with 1 Axes>"
      ]
     },
     "metadata": {},
     "output_type": "display_data"
    }
   ],
   "source": [
    "sns.histplot(x=taxi_info_comfort.distance_km,bins=100,kde=True,shrink=2).set(title='Распределение дистанций поездок по классу Комфорт')"
   ]
  },
  {
   "cell_type": "markdown",
   "id": "d447780a",
   "metadata": {},
   "source": [
    "#### Распределение \"нормальное\" или \"с изолированным пиком\""
   ]
  },
  {
   "cell_type": "code",
   "execution_count": 119,
   "id": "471e5159",
   "metadata": {
    "scrolled": true
   },
   "outputs": [
    {
     "data": {
      "text/html": [
       "<div>\n",
       "<style scoped>\n",
       "    .dataframe tbody tr th:only-of-type {\n",
       "        vertical-align: middle;\n",
       "    }\n",
       "\n",
       "    .dataframe tbody tr th {\n",
       "        vertical-align: top;\n",
       "    }\n",
       "\n",
       "    .dataframe thead th {\n",
       "        text-align: right;\n",
       "    }\n",
       "</style>\n",
       "<table border=\"1\" class=\"dataframe\">\n",
       "  <thead>\n",
       "    <tr style=\"text-align: right;\">\n",
       "      <th></th>\n",
       "      <th>order_gk</th>\n",
       "      <th>weekday_key</th>\n",
       "      <th>hour_key</th>\n",
       "      <th>distance_km</th>\n",
       "      <th>offer_class_group</th>\n",
       "      <th>driver_response</th>\n",
       "      <th>identification</th>\n",
       "    </tr>\n",
       "  </thead>\n",
       "  <tbody>\n",
       "    <tr>\n",
       "      <th>236</th>\n",
       "      <td>428085.0</td>\n",
       "      <td>1.0</td>\n",
       "      <td>20.0</td>\n",
       "      <td>0.090</td>\n",
       "      <td>Economy</td>\n",
       "      <td>0.0</td>\n",
       "      <td>2.0</td>\n",
       "    </tr>\n",
       "    <tr>\n",
       "      <th>134</th>\n",
       "      <td>243890.0</td>\n",
       "      <td>2.0</td>\n",
       "      <td>8.0</td>\n",
       "      <td>0.098</td>\n",
       "      <td>Economy</td>\n",
       "      <td>1.0</td>\n",
       "      <td>2.0</td>\n",
       "    </tr>\n",
       "    <tr>\n",
       "      <th>248</th>\n",
       "      <td>453618.0</td>\n",
       "      <td>2.0</td>\n",
       "      <td>11.0</td>\n",
       "      <td>0.109</td>\n",
       "      <td>Economy</td>\n",
       "      <td>1.0</td>\n",
       "      <td>2.0</td>\n",
       "    </tr>\n",
       "    <tr>\n",
       "      <th>15</th>\n",
       "      <td>35289.0</td>\n",
       "      <td>3.0</td>\n",
       "      <td>16.0</td>\n",
       "      <td>0.174</td>\n",
       "      <td>Economy</td>\n",
       "      <td>1.0</td>\n",
       "      <td>2.0</td>\n",
       "    </tr>\n",
       "    <tr>\n",
       "      <th>106</th>\n",
       "      <td>185609.0</td>\n",
       "      <td>5.0</td>\n",
       "      <td>20.0</td>\n",
       "      <td>0.234</td>\n",
       "      <td>Economy</td>\n",
       "      <td>0.0</td>\n",
       "      <td>2.0</td>\n",
       "    </tr>\n",
       "    <tr>\n",
       "      <th>...</th>\n",
       "      <td>...</td>\n",
       "      <td>...</td>\n",
       "      <td>...</td>\n",
       "      <td>...</td>\n",
       "      <td>...</td>\n",
       "      <td>...</td>\n",
       "      <td>...</td>\n",
       "    </tr>\n",
       "    <tr>\n",
       "      <th>145</th>\n",
       "      <td>266312.0</td>\n",
       "      <td>6.0</td>\n",
       "      <td>14.0</td>\n",
       "      <td>73.527</td>\n",
       "      <td>Economy</td>\n",
       "      <td>0.0</td>\n",
       "      <td>2.0</td>\n",
       "    </tr>\n",
       "    <tr>\n",
       "      <th>223</th>\n",
       "      <td>407927.0</td>\n",
       "      <td>6.0</td>\n",
       "      <td>0.0</td>\n",
       "      <td>75.213</td>\n",
       "      <td>Economy</td>\n",
       "      <td>0.0</td>\n",
       "      <td>2.0</td>\n",
       "    </tr>\n",
       "    <tr>\n",
       "      <th>201</th>\n",
       "      <td>369139.0</td>\n",
       "      <td>6.0</td>\n",
       "      <td>13.0</td>\n",
       "      <td>77.648</td>\n",
       "      <td>Economy</td>\n",
       "      <td>0.0</td>\n",
       "      <td>2.0</td>\n",
       "    </tr>\n",
       "    <tr>\n",
       "      <th>0</th>\n",
       "      <td>3845.0</td>\n",
       "      <td>3.0</td>\n",
       "      <td>7.0</td>\n",
       "      <td>83.830</td>\n",
       "      <td>Economy</td>\n",
       "      <td>0.0</td>\n",
       "      <td>2.0</td>\n",
       "    </tr>\n",
       "    <tr>\n",
       "      <th>48</th>\n",
       "      <td>77493.0</td>\n",
       "      <td>7.0</td>\n",
       "      <td>9.0</td>\n",
       "      <td>90.517</td>\n",
       "      <td>Economy</td>\n",
       "      <td>0.0</td>\n",
       "      <td>2.0</td>\n",
       "    </tr>\n",
       "  </tbody>\n",
       "</table>\n",
       "<p>500 rows × 7 columns</p>\n",
       "</div>"
      ],
      "text/plain": [
       "     order_gk  weekday_key  hour_key  distance_km offer_class_group  \\\n",
       "236  428085.0          1.0      20.0        0.090           Economy   \n",
       "134  243890.0          2.0       8.0        0.098           Economy   \n",
       "248  453618.0          2.0      11.0        0.109           Economy   \n",
       "15    35289.0          3.0      16.0        0.174           Economy   \n",
       "106  185609.0          5.0      20.0        0.234           Economy   \n",
       "..        ...          ...       ...          ...               ...   \n",
       "145  266312.0          6.0      14.0       73.527           Economy   \n",
       "223  407927.0          6.0       0.0       75.213           Economy   \n",
       "201  369139.0          6.0      13.0       77.648           Economy   \n",
       "0      3845.0          3.0       7.0       83.830           Economy   \n",
       "48    77493.0          7.0       9.0       90.517           Economy   \n",
       "\n",
       "     driver_response  identification  \n",
       "236              0.0             2.0  \n",
       "134              1.0             2.0  \n",
       "248              1.0             2.0  \n",
       "15               1.0             2.0  \n",
       "106              0.0             2.0  \n",
       "..               ...             ...  \n",
       "145              0.0             2.0  \n",
       "223              0.0             2.0  \n",
       "201              0.0             2.0  \n",
       "0                0.0             2.0  \n",
       "48               0.0             2.0  \n",
       "\n",
       "[500 rows x 7 columns]"
      ]
     },
     "execution_count": 119,
     "metadata": {},
     "output_type": "execute_result"
    }
   ],
   "source": [
    "taxi_info_economy"
   ]
  },
  {
   "cell_type": "code",
   "execution_count": 58,
   "id": "e424d924",
   "metadata": {
    "scrolled": false
   },
   "outputs": [
    {
     "data": {
      "text/plain": [
       "<seaborn.axisgrid.FacetGrid at 0x2a16f7ea1f0>"
      ]
     },
     "execution_count": 58,
     "metadata": {},
     "output_type": "execute_result"
    },
    {
     "data": {
      "image/png": "[encoded data removed]",
      "text/plain": [
       "<Figure size 500x500 with 1 Axes>"
      ]
     },
     "metadata": {},
     "output_type": "display_data"
    }
   ],
   "source": [
    "sns.displot(x=taxi_info_economy.distance_km,bins=50,kde=True).set(title='Распределение дистанций поездок по классу Эконом')"
   ]
  },
  {
   "cell_type": "markdown",
   "id": "2cdfdf44",
   "metadata": {},
   "source": [
    "#### \"Положительное или отрицательное скошенное распределение\""
   ]
  },
  {
   "cell_type": "code",
   "execution_count": 121,
   "id": "7724a7fd",
   "metadata": {
    "scrolled": true
   },
   "outputs": [
    {
     "data": {
      "text/html": [
       "<div>\n",
       "<style scoped>\n",
       "    .dataframe tbody tr th:only-of-type {\n",
       "        vertical-align: middle;\n",
       "    }\n",
       "\n",
       "    .dataframe tbody tr th {\n",
       "        vertical-align: top;\n",
       "    }\n",
       "\n",
       "    .dataframe thead th {\n",
       "        text-align: right;\n",
       "    }\n",
       "</style>\n",
       "<table border=\"1\" class=\"dataframe\">\n",
       "  <thead>\n",
       "    <tr style=\"text-align: right;\">\n",
       "      <th></th>\n",
       "      <th>order_gk</th>\n",
       "      <th>weekday_key</th>\n",
       "      <th>hour_key</th>\n",
       "      <th>distance_km</th>\n",
       "      <th>offer_class_group</th>\n",
       "      <th>driver_response</th>\n",
       "      <th>identification</th>\n",
       "    </tr>\n",
       "  </thead>\n",
       "  <tbody>\n",
       "    <tr>\n",
       "      <th>355</th>\n",
       "      <td>653184.0</td>\n",
       "      <td>1.0</td>\n",
       "      <td>21.0</td>\n",
       "      <td>0.064</td>\n",
       "      <td>Delivery</td>\n",
       "      <td>1.0</td>\n",
       "      <td>3.0</td>\n",
       "    </tr>\n",
       "    <tr>\n",
       "      <th>229</th>\n",
       "      <td>406724.0</td>\n",
       "      <td>1.0</td>\n",
       "      <td>12.0</td>\n",
       "      <td>0.259</td>\n",
       "      <td>Delivery</td>\n",
       "      <td>0.0</td>\n",
       "      <td>3.0</td>\n",
       "    </tr>\n",
       "    <tr>\n",
       "      <th>400</th>\n",
       "      <td>728054.0</td>\n",
       "      <td>1.0</td>\n",
       "      <td>11.0</td>\n",
       "      <td>0.296</td>\n",
       "      <td>Delivery</td>\n",
       "      <td>1.0</td>\n",
       "      <td>3.0</td>\n",
       "    </tr>\n",
       "    <tr>\n",
       "      <th>186</th>\n",
       "      <td>346380.0</td>\n",
       "      <td>6.0</td>\n",
       "      <td>18.0</td>\n",
       "      <td>0.317</td>\n",
       "      <td>Delivery</td>\n",
       "      <td>1.0</td>\n",
       "      <td>3.0</td>\n",
       "    </tr>\n",
       "    <tr>\n",
       "      <th>107</th>\n",
       "      <td>181838.0</td>\n",
       "      <td>4.0</td>\n",
       "      <td>5.0</td>\n",
       "      <td>0.357</td>\n",
       "      <td>Delivery</td>\n",
       "      <td>0.0</td>\n",
       "      <td>3.0</td>\n",
       "    </tr>\n",
       "    <tr>\n",
       "      <th>...</th>\n",
       "      <td>...</td>\n",
       "      <td>...</td>\n",
       "      <td>...</td>\n",
       "      <td>...</td>\n",
       "      <td>...</td>\n",
       "      <td>...</td>\n",
       "      <td>...</td>\n",
       "    </tr>\n",
       "    <tr>\n",
       "      <th>457</th>\n",
       "      <td>836795.0</td>\n",
       "      <td>6.0</td>\n",
       "      <td>1.0</td>\n",
       "      <td>45.581</td>\n",
       "      <td>Delivery</td>\n",
       "      <td>1.0</td>\n",
       "      <td>3.0</td>\n",
       "    </tr>\n",
       "    <tr>\n",
       "      <th>477</th>\n",
       "      <td>862657.0</td>\n",
       "      <td>5.0</td>\n",
       "      <td>0.0</td>\n",
       "      <td>47.784</td>\n",
       "      <td>Delivery</td>\n",
       "      <td>1.0</td>\n",
       "      <td>3.0</td>\n",
       "    </tr>\n",
       "    <tr>\n",
       "      <th>211</th>\n",
       "      <td>376916.0</td>\n",
       "      <td>6.0</td>\n",
       "      <td>19.0</td>\n",
       "      <td>48.227</td>\n",
       "      <td>Delivery</td>\n",
       "      <td>0.0</td>\n",
       "      <td>3.0</td>\n",
       "    </tr>\n",
       "    <tr>\n",
       "      <th>430</th>\n",
       "      <td>780434.0</td>\n",
       "      <td>7.0</td>\n",
       "      <td>3.0</td>\n",
       "      <td>53.811</td>\n",
       "      <td>Delivery</td>\n",
       "      <td>1.0</td>\n",
       "      <td>3.0</td>\n",
       "    </tr>\n",
       "    <tr>\n",
       "      <th>340</th>\n",
       "      <td>610666.0</td>\n",
       "      <td>5.0</td>\n",
       "      <td>15.0</td>\n",
       "      <td>55.235</td>\n",
       "      <td>Delivery</td>\n",
       "      <td>1.0</td>\n",
       "      <td>3.0</td>\n",
       "    </tr>\n",
       "  </tbody>\n",
       "</table>\n",
       "<p>500 rows × 7 columns</p>\n",
       "</div>"
      ],
      "text/plain": [
       "     order_gk  weekday_key  hour_key  distance_km offer_class_group  \\\n",
       "355  653184.0          1.0      21.0        0.064          Delivery   \n",
       "229  406724.0          1.0      12.0        0.259          Delivery   \n",
       "400  728054.0          1.0      11.0        0.296          Delivery   \n",
       "186  346380.0          6.0      18.0        0.317          Delivery   \n",
       "107  181838.0          4.0       5.0        0.357          Delivery   \n",
       "..        ...          ...       ...          ...               ...   \n",
       "457  836795.0          6.0       1.0       45.581          Delivery   \n",
       "477  862657.0          5.0       0.0       47.784          Delivery   \n",
       "211  376916.0          6.0      19.0       48.227          Delivery   \n",
       "430  780434.0          7.0       3.0       53.811          Delivery   \n",
       "340  610666.0          5.0      15.0       55.235          Delivery   \n",
       "\n",
       "     driver_response  identification  \n",
       "355              1.0             3.0  \n",
       "229              0.0             3.0  \n",
       "400              1.0             3.0  \n",
       "186              1.0             3.0  \n",
       "107              0.0             3.0  \n",
       "..               ...             ...  \n",
       "457              1.0             3.0  \n",
       "477              1.0             3.0  \n",
       "211              0.0             3.0  \n",
       "430              1.0             3.0  \n",
       "340              1.0             3.0  \n",
       "\n",
       "[500 rows x 7 columns]"
      ]
     },
     "execution_count": 121,
     "metadata": {},
     "output_type": "execute_result"
    }
   ],
   "source": [
    "taxi_info_delivery"
   ]
  },
  {
   "cell_type": "code",
   "execution_count": 59,
   "id": "9d028c75",
   "metadata": {
    "scrolled": false
   },
   "outputs": [
    {
     "data": {
      "text/plain": [
       "[Text(0.5, 1.0, 'Распределение дистанций поездок по классу Delivery')]"
      ]
     },
     "execution_count": 59,
     "metadata": {},
     "output_type": "execute_result"
    },
    {
     "data": {
      "image/png": "[encoded data removed]",
      "text/plain": [
       "<Figure size 640x480 with 1 Axes>"
      ]
     },
     "metadata": {},
     "output_type": "display_data"
    }
   ],
   "source": [
    "sns.histplot(x=taxi_info_delivery.distance_km,bins=100,kde=True).set(title='Распределение дистанций поездок по классу Delivery')"
   ]
  },
  {
   "cell_type": "code",
   "execution_count": 125,
   "id": "be8f1fdc",
   "metadata": {
    "scrolled": true
   },
   "outputs": [
    {
     "data": {
      "text/html": [
       "<div>\n",
       "<style scoped>\n",
       "    .dataframe tbody tr th:only-of-type {\n",
       "        vertical-align: middle;\n",
       "    }\n",
       "\n",
       "    .dataframe tbody tr th {\n",
       "        vertical-align: top;\n",
       "    }\n",
       "\n",
       "    .dataframe thead th {\n",
       "        text-align: right;\n",
       "    }\n",
       "</style>\n",
       "<table border=\"1\" class=\"dataframe\">\n",
       "  <thead>\n",
       "    <tr style=\"text-align: right;\">\n",
       "      <th></th>\n",
       "      <th>order_gk</th>\n",
       "      <th>weekday_key</th>\n",
       "      <th>hour_key</th>\n",
       "      <th>distance_km</th>\n",
       "      <th>offer_class_group</th>\n",
       "      <th>driver_response</th>\n",
       "      <th>identification</th>\n",
       "    </tr>\n",
       "  </thead>\n",
       "  <tbody>\n",
       "    <tr>\n",
       "      <th>102</th>\n",
       "      <td>191612.0</td>\n",
       "      <td>4.0</td>\n",
       "      <td>21.0</td>\n",
       "      <td>0.052</td>\n",
       "      <td>Premium</td>\n",
       "      <td>1.0</td>\n",
       "      <td>4.0</td>\n",
       "    </tr>\n",
       "    <tr>\n",
       "      <th>62</th>\n",
       "      <td>121356.0</td>\n",
       "      <td>5.0</td>\n",
       "      <td>16.0</td>\n",
       "      <td>0.175</td>\n",
       "      <td>Premium</td>\n",
       "      <td>0.0</td>\n",
       "      <td>4.0</td>\n",
       "    </tr>\n",
       "    <tr>\n",
       "      <th>260</th>\n",
       "      <td>496918.0</td>\n",
       "      <td>4.0</td>\n",
       "      <td>23.0</td>\n",
       "      <td>0.249</td>\n",
       "      <td>Premium</td>\n",
       "      <td>1.0</td>\n",
       "      <td>4.0</td>\n",
       "    </tr>\n",
       "    <tr>\n",
       "      <th>296</th>\n",
       "      <td>570862.0</td>\n",
       "      <td>1.0</td>\n",
       "      <td>2.0</td>\n",
       "      <td>0.315</td>\n",
       "      <td>Premium</td>\n",
       "      <td>1.0</td>\n",
       "      <td>4.0</td>\n",
       "    </tr>\n",
       "    <tr>\n",
       "      <th>393</th>\n",
       "      <td>752534.0</td>\n",
       "      <td>6.0</td>\n",
       "      <td>3.0</td>\n",
       "      <td>0.361</td>\n",
       "      <td>Premium</td>\n",
       "      <td>1.0</td>\n",
       "      <td>4.0</td>\n",
       "    </tr>\n",
       "    <tr>\n",
       "      <th>...</th>\n",
       "      <td>...</td>\n",
       "      <td>...</td>\n",
       "      <td>...</td>\n",
       "      <td>...</td>\n",
       "      <td>...</td>\n",
       "      <td>...</td>\n",
       "      <td>...</td>\n",
       "    </tr>\n",
       "    <tr>\n",
       "      <th>443</th>\n",
       "      <td>829490.0</td>\n",
       "      <td>3.0</td>\n",
       "      <td>9.0</td>\n",
       "      <td>101.122</td>\n",
       "      <td>Premium</td>\n",
       "      <td>1.0</td>\n",
       "      <td>4.0</td>\n",
       "    </tr>\n",
       "    <tr>\n",
       "      <th>141</th>\n",
       "      <td>262127.0</td>\n",
       "      <td>7.0</td>\n",
       "      <td>14.0</td>\n",
       "      <td>102.526</td>\n",
       "      <td>Premium</td>\n",
       "      <td>1.0</td>\n",
       "      <td>4.0</td>\n",
       "    </tr>\n",
       "    <tr>\n",
       "      <th>95</th>\n",
       "      <td>171687.0</td>\n",
       "      <td>4.0</td>\n",
       "      <td>11.0</td>\n",
       "      <td>114.389</td>\n",
       "      <td>Premium</td>\n",
       "      <td>0.0</td>\n",
       "      <td>4.0</td>\n",
       "    </tr>\n",
       "    <tr>\n",
       "      <th>134</th>\n",
       "      <td>253604.0</td>\n",
       "      <td>2.0</td>\n",
       "      <td>14.0</td>\n",
       "      <td>127.045</td>\n",
       "      <td>Premium</td>\n",
       "      <td>1.0</td>\n",
       "      <td>4.0</td>\n",
       "    </tr>\n",
       "    <tr>\n",
       "      <th>349</th>\n",
       "      <td>679357.0</td>\n",
       "      <td>1.0</td>\n",
       "      <td>3.0</td>\n",
       "      <td>138.950</td>\n",
       "      <td>Premium</td>\n",
       "      <td>0.0</td>\n",
       "      <td>4.0</td>\n",
       "    </tr>\n",
       "  </tbody>\n",
       "</table>\n",
       "<p>500 rows × 7 columns</p>\n",
       "</div>"
      ],
      "text/plain": [
       "     order_gk  weekday_key  hour_key  distance_km offer_class_group  \\\n",
       "102  191612.0          4.0      21.0        0.052           Premium   \n",
       "62   121356.0          5.0      16.0        0.175           Premium   \n",
       "260  496918.0          4.0      23.0        0.249           Premium   \n",
       "296  570862.0          1.0       2.0        0.315           Premium   \n",
       "393  752534.0          6.0       3.0        0.361           Premium   \n",
       "..        ...          ...       ...          ...               ...   \n",
       "443  829490.0          3.0       9.0      101.122           Premium   \n",
       "141  262127.0          7.0      14.0      102.526           Premium   \n",
       "95   171687.0          4.0      11.0      114.389           Premium   \n",
       "134  253604.0          2.0      14.0      127.045           Premium   \n",
       "349  679357.0          1.0       3.0      138.950           Premium   \n",
       "\n",
       "     driver_response  identification  \n",
       "102              1.0             4.0  \n",
       "62               0.0             4.0  \n",
       "260              1.0             4.0  \n",
       "296              1.0             4.0  \n",
       "393              1.0             4.0  \n",
       "..               ...             ...  \n",
       "443              1.0             4.0  \n",
       "141              1.0             4.0  \n",
       "95               0.0             4.0  \n",
       "134              1.0             4.0  \n",
       "349              0.0             4.0  \n",
       "\n",
       "[500 rows x 7 columns]"
      ]
     },
     "execution_count": 125,
     "metadata": {},
     "output_type": "execute_result"
    }
   ],
   "source": [
    "taxi_info_premium"
   ]
  },
  {
   "cell_type": "code",
   "execution_count": 60,
   "id": "2022a406",
   "metadata": {
    "scrolled": false
   },
   "outputs": [
    {
     "data": {
      "text/plain": [
       "<seaborn.axisgrid.FacetGrid at 0x2a164950550>"
      ]
     },
     "execution_count": 60,
     "metadata": {},
     "output_type": "execute_result"
    },
    {
     "data": {
      "image/png": "[encoded data removed]",
      "text/plain": [
       "<Figure size 500x500 with 1 Axes>"
      ]
     },
     "metadata": {},
     "output_type": "display_data"
    }
   ],
   "source": [
    "sns.displot(x=taxi_info_premium.distance_km,bins=50,kde=True).set(title='Распределение дистанций поездок по классу Premium')"
   ]
  },
  {
   "cell_type": "markdown",
   "id": "e3fa0eb8",
   "metadata": {},
   "source": [
    "### Сформируйте выборки по эконом и комфорт-классам. Визуализируйте пересечение интервалов дистанций этих классов (примечание: поможет функция sns.displot)"
   ]
  },
  {
   "cell_type": "code",
   "execution_count": 61,
   "id": "51c4f29a",
   "metadata": {
    "scrolled": false
   },
   "outputs": [
    {
     "data": {
      "text/html": [
       "<div>\n",
       "<style scoped>\n",
       "    .dataframe tbody tr th:only-of-type {\n",
       "        vertical-align: middle;\n",
       "    }\n",
       "\n",
       "    .dataframe tbody tr th {\n",
       "        vertical-align: top;\n",
       "    }\n",
       "\n",
       "    .dataframe thead th {\n",
       "        text-align: right;\n",
       "    }\n",
       "</style>\n",
       "<table border=\"1\" class=\"dataframe\">\n",
       "  <thead>\n",
       "    <tr style=\"text-align: right;\">\n",
       "      <th></th>\n",
       "      <th>order_gk</th>\n",
       "      <th>weekday_key</th>\n",
       "      <th>hour_key</th>\n",
       "      <th>distance_km</th>\n",
       "      <th>offer_class_group</th>\n",
       "      <th>driver_response</th>\n",
       "      <th>identification</th>\n",
       "    </tr>\n",
       "  </thead>\n",
       "  <tbody>\n",
       "    <tr>\n",
       "      <th>0</th>\n",
       "      <td>2710.0</td>\n",
       "      <td>4.0</td>\n",
       "      <td>19.0</td>\n",
       "      <td>2.142</td>\n",
       "      <td>Comfort</td>\n",
       "      <td>1.0</td>\n",
       "      <td>1.0</td>\n",
       "    </tr>\n",
       "    <tr>\n",
       "      <th>1</th>\n",
       "      <td>6635.0</td>\n",
       "      <td>7.0</td>\n",
       "      <td>10.0</td>\n",
       "      <td>10.889</td>\n",
       "      <td>Comfort</td>\n",
       "      <td>1.0</td>\n",
       "      <td>1.0</td>\n",
       "    </tr>\n",
       "    <tr>\n",
       "      <th>2</th>\n",
       "      <td>7277.0</td>\n",
       "      <td>4.0</td>\n",
       "      <td>12.0</td>\n",
       "      <td>28.825</td>\n",
       "      <td>Comfort</td>\n",
       "      <td>1.0</td>\n",
       "      <td>1.0</td>\n",
       "    </tr>\n",
       "    <tr>\n",
       "      <th>3</th>\n",
       "      <td>7351.0</td>\n",
       "      <td>4.0</td>\n",
       "      <td>2.0</td>\n",
       "      <td>17.281</td>\n",
       "      <td>Comfort</td>\n",
       "      <td>0.0</td>\n",
       "      <td>1.0</td>\n",
       "    </tr>\n",
       "    <tr>\n",
       "      <th>4</th>\n",
       "      <td>9088.0</td>\n",
       "      <td>1.0</td>\n",
       "      <td>18.0</td>\n",
       "      <td>4.126</td>\n",
       "      <td>Comfort</td>\n",
       "      <td>0.0</td>\n",
       "      <td>1.0</td>\n",
       "    </tr>\n",
       "    <tr>\n",
       "      <th>...</th>\n",
       "      <td>...</td>\n",
       "      <td>...</td>\n",
       "      <td>...</td>\n",
       "      <td>...</td>\n",
       "      <td>...</td>\n",
       "      <td>...</td>\n",
       "      <td>...</td>\n",
       "    </tr>\n",
       "    <tr>\n",
       "      <th>995</th>\n",
       "      <td>914935.0</td>\n",
       "      <td>5.0</td>\n",
       "      <td>19.0</td>\n",
       "      <td>13.201</td>\n",
       "      <td>Economy</td>\n",
       "      <td>0.0</td>\n",
       "      <td>2.0</td>\n",
       "    </tr>\n",
       "    <tr>\n",
       "      <th>996</th>\n",
       "      <td>915359.0</td>\n",
       "      <td>3.0</td>\n",
       "      <td>16.0</td>\n",
       "      <td>20.151</td>\n",
       "      <td>Economy</td>\n",
       "      <td>0.0</td>\n",
       "      <td>2.0</td>\n",
       "    </tr>\n",
       "    <tr>\n",
       "      <th>997</th>\n",
       "      <td>917962.0</td>\n",
       "      <td>1.0</td>\n",
       "      <td>1.0</td>\n",
       "      <td>42.714</td>\n",
       "      <td>Economy</td>\n",
       "      <td>0.0</td>\n",
       "      <td>2.0</td>\n",
       "    </tr>\n",
       "    <tr>\n",
       "      <th>998</th>\n",
       "      <td>918737.0</td>\n",
       "      <td>2.0</td>\n",
       "      <td>23.0</td>\n",
       "      <td>14.960</td>\n",
       "      <td>Economy</td>\n",
       "      <td>0.0</td>\n",
       "      <td>2.0</td>\n",
       "    </tr>\n",
       "    <tr>\n",
       "      <th>999</th>\n",
       "      <td>919196.0</td>\n",
       "      <td>4.0</td>\n",
       "      <td>19.0</td>\n",
       "      <td>68.559</td>\n",
       "      <td>Economy</td>\n",
       "      <td>0.0</td>\n",
       "      <td>2.0</td>\n",
       "    </tr>\n",
       "  </tbody>\n",
       "</table>\n",
       "<p>1000 rows × 7 columns</p>\n",
       "</div>"
      ],
      "text/plain": [
       "     order_gk  weekday_key  hour_key  distance_km offer_class_group  \\\n",
       "0      2710.0          4.0      19.0        2.142           Comfort   \n",
       "1      6635.0          7.0      10.0       10.889           Comfort   \n",
       "2      7277.0          4.0      12.0       28.825           Comfort   \n",
       "3      7351.0          4.0       2.0       17.281           Comfort   \n",
       "4      9088.0          1.0      18.0        4.126           Comfort   \n",
       "..        ...          ...       ...          ...               ...   \n",
       "995  914935.0          5.0      19.0       13.201           Economy   \n",
       "996  915359.0          3.0      16.0       20.151           Economy   \n",
       "997  917962.0          1.0       1.0       42.714           Economy   \n",
       "998  918737.0          2.0      23.0       14.960           Economy   \n",
       "999  919196.0          4.0      19.0       68.559           Economy   \n",
       "\n",
       "     driver_response  identification  \n",
       "0                1.0             1.0  \n",
       "1                1.0             1.0  \n",
       "2                1.0             1.0  \n",
       "3                0.0             1.0  \n",
       "4                0.0             1.0  \n",
       "..               ...             ...  \n",
       "995              0.0             2.0  \n",
       "996              0.0             2.0  \n",
       "997              0.0             2.0  \n",
       "998              0.0             2.0  \n",
       "999              0.0             2.0  \n",
       "\n",
       "[1000 rows x 7 columns]"
      ]
     },
     "execution_count": 61,
     "metadata": {},
     "output_type": "execute_result"
    }
   ],
   "source": [
    "taxi_info_eccom = pd.concat([taxi_info_comfort,taxi_info_economy], axis=0, ignore_index=True)\n",
    "taxi_info_eccom"
   ]
  },
  {
   "cell_type": "code",
   "execution_count": 85,
   "id": "eac308ab",
   "metadata": {
    "scrolled": true
   },
   "outputs": [
    {
     "data": {
      "text/plain": [
       "<seaborn.axisgrid.PairGrid at 0x2a1737bcf40>"
      ]
     },
     "execution_count": 85,
     "metadata": {},
     "output_type": "execute_result"
    },
    {
     "data": {
      "image/png": "[encoded data removed]",
      "text/plain": [
       "<Figure size 602.236x500 with 2 Axes>"
      ]
     },
     "metadata": {},
     "output_type": "display_data"
    }
   ],
   "source": [
    "sns.pairplot(taxi_info_eccom[['identification','distance_km']],hue='identification', palette='Set1',height=5).set(title='Пересечение интервалов классов Эконом и Комфорт')"
   ]
  },
  {
   "cell_type": "markdown",
   "id": "d8540d8c",
   "metadata": {},
   "source": [
    "#### Одинаковое количество заказов такси эконом и комфорт класса распределено в интервале от 26 до 28 километров"
   ]
  },
  {
   "cell_type": "markdown",
   "id": "9ebbe880",
   "metadata": {},
   "source": [
    "### Проведите стат. тест (поможет: функция scipy.stats.ttest_ind), проверьте гипоетезу, что дистанции поездок в комфорт-классе отличаются от дистанций поездок эконом-класса (примечание: H0 – выборки не отличаются, H1 – выборки отличны; уровень значимости = 5%)"
   ]
  },
  {
   "cell_type": "code",
   "execution_count": 86,
   "id": "9206f1b5",
   "metadata": {},
   "outputs": [],
   "source": [
    "from scipy.stats import ttest_ind\n",
    "from sklearn.model_selection import train_test_split"
   ]
  },
  {
   "cell_type": "code",
   "execution_count": 87,
   "id": "76e5c19e",
   "metadata": {
    "scrolled": true
   },
   "outputs": [
    {
     "name": "stdout",
     "output_type": "stream",
     "text": [
      "     order_gk  weekday_key  hour_key  distance_km offer_class_group  \\\n",
      "46    68734.0          5.0      16.0        0.609           Comfort   \n",
      "137  250791.0          5.0      16.0       29.830           Comfort   \n",
      "238  448036.0          6.0       4.0       25.387           Comfort   \n",
      "270  503570.0          4.0      23.0       28.084           Comfort   \n",
      "4      9088.0          1.0      18.0        4.126           Comfort   \n",
      "..        ...          ...       ...          ...               ...   \n",
      "290  551137.0          6.0      17.0       20.061           Comfort   \n",
      "369  683124.0          3.0      11.0       25.523           Comfort   \n",
      "271  508715.0          4.0      21.0       12.522           Comfort   \n",
      "307  583364.0          6.0       7.0        9.530           Comfort   \n",
      "481  896806.0          6.0      20.0       25.823           Comfort   \n",
      "\n",
      "     driver_response  identification  \n",
      "46               1.0             1.0  \n",
      "137              0.0             1.0  \n",
      "238              1.0             1.0  \n",
      "270              1.0             1.0  \n",
      "4                0.0             1.0  \n",
      "..               ...             ...  \n",
      "290              0.0             1.0  \n",
      "369              1.0             1.0  \n",
      "271              0.0             1.0  \n",
      "307              0.0             1.0  \n",
      "481              1.0             1.0  \n",
      "\n",
      "[400 rows x 7 columns]\n",
      "     order_gk  weekday_key  hour_key  distance_km offer_class_group  \\\n",
      "46    72306.0          5.0      21.0       28.107           Economy   \n",
      "137  249559.0          4.0      17.0       30.379           Economy   \n",
      "238  432960.0          5.0      14.0       62.347           Economy   \n",
      "270  493388.0          6.0      10.0       34.229           Economy   \n",
      "4      8985.0          3.0      23.0       21.296           Economy   \n",
      "..        ...          ...       ...          ...               ...   \n",
      "290  528792.0          3.0       6.0       22.554           Economy   \n",
      "369  715285.0          6.0      10.0       19.501           Economy   \n",
      "271  498124.0          5.0       9.0       16.676           Economy   \n",
      "307  558977.0          2.0       7.0       53.461           Economy   \n",
      "481  897557.0          7.0      14.0        4.754           Economy   \n",
      "\n",
      "     driver_response  identification  \n",
      "46               1.0             2.0  \n",
      "137              1.0             2.0  \n",
      "238              0.0             2.0  \n",
      "270              1.0             2.0  \n",
      "4                1.0             2.0  \n",
      "..               ...             ...  \n",
      "290              0.0             2.0  \n",
      "369              0.0             2.0  \n",
      "271              1.0             2.0  \n",
      "307              1.0             2.0  \n",
      "481              1.0             2.0  \n",
      "\n",
      "[400 rows x 7 columns]\n"
     ]
    }
   ],
   "source": [
    "X_train, X_test, y_train, y_test = train_test_split(taxi_info_comfort,taxi_info_economy, test_size=0.2)\n",
    "print(X_train)\n",
    "print(y_train)"
   ]
  },
  {
   "cell_type": "code",
   "execution_count": 240,
   "id": "9ba2b2fb",
   "metadata": {
    "scrolled": true
   },
   "outputs": [
    {
     "data": {
      "text/plain": [
       "Ttest_indResult(statistic=2.920871027493813, pvalue=0.003588957297011715)"
      ]
     },
     "execution_count": 240,
     "metadata": {},
     "output_type": "execute_result"
    }
   ],
   "source": [
    "ttest_ind(X_train['distance_km'], y_train['distance_km'])"
   ]
  },
  {
   "cell_type": "markdown",
   "id": "eb2a3e59",
   "metadata": {},
   "source": [
    "#### По двум случайным выборкам мы получаем значение p-value 0.003, что меньше допустимого уровня значимости"
   ]
  },
  {
   "cell_type": "code",
   "execution_count": 241,
   "id": "ea8f16d2",
   "metadata": {},
   "outputs": [
    {
     "data": {
      "text/plain": [
       "Ttest_indResult(statistic=3.1706426042389753, pvalue=0.0015673809987275806)"
      ]
     },
     "execution_count": 241,
     "metadata": {},
     "output_type": "execute_result"
    }
   ],
   "source": [
    "ttest_ind(taxi_info_comfort['distance_km'], taxi_info_economy['distance_km'])"
   ]
  },
  {
   "cell_type": "markdown",
   "id": "d3be52a5",
   "metadata": {},
   "source": [
    "### Сделайте выводы по результатам проведения стат. теста"
   ]
  },
  {
   "cell_type": "markdown",
   "id": "5ecc4f32",
   "metadata": {},
   "source": [
    "#### В результате теста мы получаем значение p-value меньше установленного уровня значимости - 5%. Поэтому мы отвергаем нулевую гипотезу. По итогу теста получаем, что дистанции поездок в комфорт-классе отличаются от дистанций поездок эконом-класса"
   ]
  },
  {
   "cell_type": "markdown",
   "id": "0e927c61",
   "metadata": {},
   "source": [
    "### Вычислите средние выборок исследуемых классов, с учётом полученного результата проверки гипотез определите – какой из классов предпочитают на дальние поездки (эконом или комфорт)"
   ]
  },
  {
   "cell_type": "code",
   "execution_count": 242,
   "id": "43dafa30",
   "metadata": {
    "scrolled": false
   },
   "outputs": [
    {
     "data": {
      "text/html": [
       "<div>\n",
       "<style scoped>\n",
       "    .dataframe tbody tr th:only-of-type {\n",
       "        vertical-align: middle;\n",
       "    }\n",
       "\n",
       "    .dataframe tbody tr th {\n",
       "        vertical-align: top;\n",
       "    }\n",
       "\n",
       "    .dataframe thead th {\n",
       "        text-align: right;\n",
       "    }\n",
       "</style>\n",
       "<table border=\"1\" class=\"dataframe\">\n",
       "  <thead>\n",
       "    <tr style=\"text-align: right;\">\n",
       "      <th></th>\n",
       "      <th>offer_class_group</th>\n",
       "      <th>distance_km</th>\n",
       "    </tr>\n",
       "  </thead>\n",
       "  <tbody>\n",
       "    <tr>\n",
       "      <th>0</th>\n",
       "      <td>Comfort</td>\n",
       "      <td>29.758916</td>\n",
       "    </tr>\n",
       "    <tr>\n",
       "      <th>1</th>\n",
       "      <td>Economy</td>\n",
       "      <td>26.283098</td>\n",
       "    </tr>\n",
       "  </tbody>\n",
       "</table>\n",
       "</div>"
      ],
      "text/plain": [
       "  offer_class_group  distance_km\n",
       "0           Comfort    29.758916\n",
       "1           Economy    26.283098"
      ]
     },
     "execution_count": 242,
     "metadata": {},
     "output_type": "execute_result"
    }
   ],
   "source": [
    "taxi_info_eccom.groupby('offer_class_group').distance_km.mean().to_frame().reset_index()"
   ]
  },
  {
   "cell_type": "code",
   "execution_count": 244,
   "id": "fee93c50",
   "metadata": {
    "scrolled": true
   },
   "outputs": [
    {
     "data": {
      "text/html": [
       "<div>\n",
       "<style scoped>\n",
       "    .dataframe tbody tr th:only-of-type {\n",
       "        vertical-align: middle;\n",
       "    }\n",
       "\n",
       "    .dataframe tbody tr th {\n",
       "        vertical-align: top;\n",
       "    }\n",
       "\n",
       "    .dataframe thead th {\n",
       "        text-align: right;\n",
       "    }\n",
       "</style>\n",
       "<table border=\"1\" class=\"dataframe\">\n",
       "  <thead>\n",
       "    <tr style=\"text-align: right;\">\n",
       "      <th></th>\n",
       "      <th>order_gk</th>\n",
       "      <th>weekday_key</th>\n",
       "      <th>hour_key</th>\n",
       "      <th>distance_km</th>\n",
       "      <th>driver_response</th>\n",
       "      <th>identification</th>\n",
       "    </tr>\n",
       "    <tr>\n",
       "      <th>offer_class_group</th>\n",
       "      <th></th>\n",
       "      <th></th>\n",
       "      <th></th>\n",
       "      <th></th>\n",
       "      <th></th>\n",
       "      <th></th>\n",
       "    </tr>\n",
       "  </thead>\n",
       "  <tbody>\n",
       "    <tr>\n",
       "      <th>Comfort</th>\n",
       "      <td>475479.0</td>\n",
       "      <td>4.0</td>\n",
       "      <td>12.0</td>\n",
       "      <td>28.0785</td>\n",
       "      <td>0.0</td>\n",
       "      <td>1.0</td>\n",
       "    </tr>\n",
       "    <tr>\n",
       "      <th>Economy</th>\n",
       "      <td>455884.5</td>\n",
       "      <td>4.0</td>\n",
       "      <td>12.0</td>\n",
       "      <td>23.7980</td>\n",
       "      <td>0.0</td>\n",
       "      <td>2.0</td>\n",
       "    </tr>\n",
       "  </tbody>\n",
       "</table>\n",
       "</div>"
      ],
      "text/plain": [
       "                   order_gk  weekday_key  hour_key  distance_km  \\\n",
       "offer_class_group                                                 \n",
       "Comfort            475479.0          4.0      12.0      28.0785   \n",
       "Economy            455884.5          4.0      12.0      23.7980   \n",
       "\n",
       "                   driver_response  identification  \n",
       "offer_class_group                                   \n",
       "Comfort                        0.0             1.0  \n",
       "Economy                        0.0             2.0  "
      ]
     },
     "execution_count": 244,
     "metadata": {},
     "output_type": "execute_result"
    }
   ],
   "source": [
    "taxi_info_eccom.groupby('offer_class_group').median()"
   ]
  },
  {
   "cell_type": "code",
   "execution_count": 247,
   "id": "9e6c09c7",
   "metadata": {},
   "outputs": [
    {
     "data": {
      "text/plain": [
       "252"
      ]
     },
     "execution_count": 247,
     "metadata": {},
     "output_type": "execute_result"
    }
   ],
   "source": [
    "taxi_info_comfort.where(taxi_info_comfort.distance_km >= 28).dropna().offer_class_group.count()"
   ]
  },
  {
   "cell_type": "code",
   "execution_count": 248,
   "id": "6de0b124",
   "metadata": {},
   "outputs": [
    {
     "data": {
      "text/plain": [
       "215"
      ]
     },
     "execution_count": 248,
     "metadata": {},
     "output_type": "execute_result"
    }
   ],
   "source": [
    "taxi_info_economy.where(taxi_info_economy.distance_km >= 28).dropna().offer_class_group.count()"
   ]
  },
  {
   "cell_type": "markdown",
   "id": "0f14a2f6",
   "metadata": {},
   "source": [
    "Количество поездок класса Комфорт с дистанцией выше или равной 28 км  - медианное значение, - больше чем количество поездок класса Эконом с этим же диапазоном дистанций. в следствии чего можно утверждать, что такси класса Комфорт пользуется большим спросом при длительных поездках."
   ]
  }
 ],
 "metadata": {
  "kernelspec": {
   "display_name": "Python 3 (ipykernel)",
   "language": "python",
   "name": "python3"
  },
  "language_info": {
   "codemirror_mode": {
    "name": "ipython",
    "version": 3
   },
   "file_extension": ".py",
   "mimetype": "text/x-python",
   "name": "python",
   "nbconvert_exporter": "python",
   "pygments_lexer": "ipython3",
   "version": "3.9.13"
  }
 },
 "nbformat": 4,
 "nbformat_minor": 5
}
